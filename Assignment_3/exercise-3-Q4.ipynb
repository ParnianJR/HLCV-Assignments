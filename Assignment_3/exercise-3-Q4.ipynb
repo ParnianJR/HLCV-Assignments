{
 "cells": [
  {
   "cell_type": "code",
   "execution_count": 1,
   "metadata": {},
   "outputs": [],
   "source": [
    "from os.path import join as ospj\n",
    "from copy import deepcopy"
   ]
  },
  {
   "cell_type": "code",
   "execution_count": 2,
   "metadata": {},
   "outputs": [],
   "source": [
    "### If using Colab, uncomment the two following lines to mount your Google Drive.\n",
    "\n",
    "# from google.colab import drive\n",
    "# drive.mount('/content/drive')\n",
    "\n",
    "\n",
    "### If using Colab, change the PROJECT_ROOT to where you've uploaded the project.\n",
    "### E.g. PROJECT_ROOT='/content/drive/MyDrive/TeamX/'\n",
    "### You may also need to change the `data_dir`, `save_dir`, paths in the `cfgs/exercise_3/` configs.\n",
    "\n",
    "PROJECT_ROOT='./'\n",
    "# import sys\n",
    "# sys.path.append(PROJECT_ROOT)\n",
    "\n",
    "# import os\n",
    "# from google.colab import drive\n",
    "# drive.mount('/content/gdrive')\n",
    "# os.chdir(\"/content/gdrive/MyDrive/HLCV/Assignment3\")"
   ]
  },
  {
   "cell_type": "code",
   "execution_count": 3,
   "metadata": {},
   "outputs": [],
   "source": [
    "# Just so that you don't have to restart the notebook with every change.\n",
    "%load_ext autoreload\n",
    "%autoreload 2 "
   ]
  },
  {
   "cell_type": "code",
   "execution_count": 4,
   "metadata": {},
   "outputs": [
    {
     "name": "stdout",
     "output_type": "stream",
     "text": [
      "gpu is avalable\n"
     ]
    }
   ],
   "source": [
    "import torch\n",
    "if torch.cuda.is_available():\n",
    "    print(\"gpu is avalable\")\n",
    "else:\n",
    "    print('cpu')"
   ]
  },
  {
   "attachments": {},
   "cell_type": "markdown",
   "metadata": {
    "id": "AOgg_0Scc4uL"
   },
   "source": [
    "### Question 4: Use pretrained networks (10 points)\n",
    "\n",
    "It has become standard practice in computer vision tasks related to images to use a convolutional network pre-trained as the backbone feature extraction network and train new layers on top for the target task. In this question, we will implement such a model. We will use the `VGG_11_bn` network from the `torchvision.models` library as our backbone network. This model has been trained on ImageNet, achieving a top-5 error rate of 10.19%. It consists of 8 convolutional layers followed by adaptive average pooling and fully-connected layers to perform the classification. We will get rid of the average pooling and fully-connected layers from the `VGG_11_bn` model and attach our own fully connected layers to perform the CIFAR-10 classification.\n",
    "\n",
    "a) Instantiate a pretrained version of the `VGG_11_bn` model with ImageNet pre-trained weights. Add two fully connected layers on top, with Batch Norm and ReLU layers in between them, to build the CIFAR-10 10-class classifier. Note that you will need to set the correct mean and variance in the data-loader, to match the mean and variance the data was normalized with when the `VGG_11_bn` was trained. Train only the newly added layers while disabling gradients for the rest of the network. Each parameter in PyTorch has a required grad flag, which can be turned off to disable gradient computation for it. Get familiar with this gradient control mechanism in PyTorch and train the above model. As a reference point, you will see validation accuracies in the range (61-65%) if implemented correctly. (6 points)\n",
    "\n",
    "b) We can see that while the ImageNet features are useful, just learning the new layers does not yield better performance than training our own network from scratch. This is due to the domain-shift between the ImageNet dataset (224x224 resolution images) and the CIFAR-10 dataset (32x32 images). To improve the performance we can **fine-tune** `the whole network on the CIFAR-10 dataset, starting from the ImageNet initialization` (set `\"fine_tune\"` to `true` in `vgg_cifar10.py`). To do this, enable gradient computation to the rest of the network, and update all the model parameters. Additionally train a baseline model where the entire network is trained from scratch, without loading the ImageNet weights (set `\"weights\"` to `None` in `vgg_cifar10.py`). Compare the two models' training curves, validation, and testing performance in the report. (4 points)\n",
    "\n",
    "\n",
    "If you're using Pytorch 1, the `weights` argument will not work. In that case, you need to change the `weights` argument to `pretrained=True` or `False`. Feel free to post on Forum if you have any issues.\n",
    "\n",
    "For both questions, feel free to modify the data augmentation by defining a new preset and referring to it in the config file. However, make sure that in your experiments you always change only one thing at a time (i.e use the same augmentation for both method A and method B if you're comparing them with each other!)"
   ]
  },
  {
   "cell_type": "code",
   "execution_count": 4,
   "metadata": {},
   "outputs": [
    {
     "name": "stdout",
     "output_type": "stream",
     "text": [
      "transforms for preset CIFAR10_VGG for split train are Compose(\n",
      "    ToTensor()\n",
      "    Normalize(mean=(0.485, 0.456, 0.406), std=(0.229, 0.224, 0.225))\n",
      ")\n",
      "Files already downloaded and verified\n",
      "Initialization DataLoader for 45000 samples with {'batch_size': 64, 'shuffle': True, 'num_workers': 6}\n",
      "Initialization heldout DataLoader 5000 samples with {'batch_size': 64, 'shuffle': False, 'num_workers': 6}\n",
      "transforms for preset CIFAR10_VGG for split eval are Compose(\n",
      "    ToTensor()\n",
      "    Normalize(mean=(0.485, 0.456, 0.406), std=(0.229, 0.224, 0.225))\n",
      ")\n",
      "Files already downloaded and verified\n",
      "Initialization DataLoader for 10000 samples with {'batch_size': 64, 'shuffle': False, 'num_workers': 6}\n"
     ]
    }
   ],
   "source": [
    "from cfgs.exercise_3 import vgg_cifar10\n",
    "q4_config = vgg_cifar10.q4_dict\n",
    "\n",
    "\n",
    "datamodule_class = q4_config['datamodule']\n",
    "data_args = q4_config['data_args']\n",
    "\n",
    "dm = datamodule_class(**data_args)\n",
    "\n",
    "# Based on the heldout_split in the config file, \n",
    "# the datamodule will break the dataset into two splits\n",
    "train_data_loader = dm.get_loader()\n",
    "valid_data_loader = dm.get_heldout_loader()\n",
    "\n",
    "# Test loader is the same as train loader\n",
    "# except that training=False, shuffle=False, and no splitting is done \n",
    "# So we use the exact config from training and just modify these arguments\n",
    "test_data_args = deepcopy(data_args) # copy the args\n",
    "test_data_args['training']=False\n",
    "test_data_args['shuffle']=False\n",
    "test_data_args['heldout_split']=0.0\n",
    "\n",
    "# Now we initialize the test module with the modified config\n",
    "test_dm = datamodule_class(**test_data_args)\n",
    "test_loader = test_dm.get_loader() # and get the loader from it"
   ]
  },
  {
   "cell_type": "markdown",
   "metadata": {},
   "source": [
    " By default WandB is enabled in config file for `vgg_cifar10.py`. You can set it to false if you don't want to use it. It's not an essential part of the assignment anyway.  \n",
    " We set `wandb = False` in the config file.  "
   ]
  },
  {
   "cell_type": "code",
   "execution_count": 5,
   "metadata": {},
   "outputs": [],
   "source": [
    "wandb_enabled = q4_config['trainer_config']['wandb']\n",
    "if wandb_enabled:\n",
    "    import wandb\n",
    "    \n",
    "    # change entity to your wandb username/group name. Also feel free to rename project and run names.\n",
    "    run = wandb.init(\n",
    "        project=\"HLCV-exercise-3\", # Change the project name if you wish.\n",
    "        name=q4_config['name'],\n",
    "        config=q4_config,\n",
    "        entity=\"Curious Puffin\", # Replace the curious puffin with your WandB username :)\n",
    "        dir=PROJECT_ROOT\n",
    "    )\n",
    "    run.name = run.name + f'-{run.id}'\n",
    "    assert run is wandb.run\n"
   ]
  },
  {
   "cell_type": "code",
   "execution_count": 6,
   "metadata": {},
   "outputs": [
    {
     "name": "stdout",
     "output_type": "stream",
     "text": [
      "Warning! Log file ./Logs\\CIFAR10_VGG_B2.log already exists! The logs will be appended!\n",
      "Warning! Save dir Saved\\CIFAR10_VGG_B2 already exists!Existing checkpoints will be overwritten!\n"
     ]
    },
    {
     "name": "stderr",
     "output_type": "stream",
     "text": [
      "C:\\Users\\pjrad\\AppData\\Roaming\\Python\\Python39\\site-packages\\torchvision\\models\\_utils.py:208: UserWarning: The parameter 'pretrained' is deprecated since 0.13 and may be removed in the future, please use 'weights' instead.\n",
      "  warnings.warn(\n",
      "C:\\Users\\pjrad\\AppData\\Roaming\\Python\\Python39\\site-packages\\torchvision\\models\\_utils.py:223: UserWarning: Arguments other than a weight enum or `None` for 'weights' are deprecated since 0.13 and may be removed in the future. The current behavior is equivalent to passing `weights=VGG11_BN_Weights.IMAGENET1K_V1`. You can also use `weights=VGG11_BN_Weights.DEFAULT` to get the most up-to-date weights.\n",
      "  warnings.warn(msg)\n"
     ]
    },
    {
     "name": "stdout",
     "output_type": "stream",
     "text": [
      "********************\n",
      "Conv2d(3, 64, kernel_size=(3, 3), stride=(1, 1), padding=(1, 1))\n",
      "BatchNorm2d(64, eps=1e-05, momentum=0.1, affine=True, track_running_stats=True)\n",
      "ReLU(inplace=True)\n",
      "MaxPool2d(kernel_size=2, stride=2, padding=0, dilation=1, ceil_mode=False)\n",
      "Conv2d(64, 128, kernel_size=(3, 3), stride=(1, 1), padding=(1, 1))\n",
      "BatchNorm2d(128, eps=1e-05, momentum=0.1, affine=True, track_running_stats=True)\n",
      "ReLU(inplace=True)\n",
      "MaxPool2d(kernel_size=2, stride=2, padding=0, dilation=1, ceil_mode=False)\n",
      "Conv2d(128, 256, kernel_size=(3, 3), stride=(1, 1), padding=(1, 1))\n",
      "BatchNorm2d(256, eps=1e-05, momentum=0.1, affine=True, track_running_stats=True)\n",
      "ReLU(inplace=True)\n",
      "Conv2d(256, 256, kernel_size=(3, 3), stride=(1, 1), padding=(1, 1))\n",
      "BatchNorm2d(256, eps=1e-05, momentum=0.1, affine=True, track_running_stats=True)\n",
      "ReLU(inplace=True)\n",
      "MaxPool2d(kernel_size=2, stride=2, padding=0, dilation=1, ceil_mode=False)\n",
      "Conv2d(256, 512, kernel_size=(3, 3), stride=(1, 1), padding=(1, 1))\n",
      "BatchNorm2d(512, eps=1e-05, momentum=0.1, affine=True, track_running_stats=True)\n",
      "ReLU(inplace=True)\n",
      "Conv2d(512, 512, kernel_size=(3, 3), stride=(1, 1), padding=(1, 1))\n",
      "BatchNorm2d(512, eps=1e-05, momentum=0.1, affine=True, track_running_stats=True)\n",
      "ReLU(inplace=True)\n",
      "MaxPool2d(kernel_size=2, stride=2, padding=0, dilation=1, ceil_mode=False)\n",
      "Conv2d(512, 512, kernel_size=(3, 3), stride=(1, 1), padding=(1, 1))\n",
      "BatchNorm2d(512, eps=1e-05, momentum=0.1, affine=True, track_running_stats=True)\n",
      "ReLU(inplace=True)\n",
      "Conv2d(512, 512, kernel_size=(3, 3), stride=(1, 1), padding=(1, 1))\n",
      "BatchNorm2d(512, eps=1e-05, momentum=0.1, affine=True, track_running_stats=True)\n",
      "ReLU(inplace=True)\n",
      "MaxPool2d(kernel_size=2, stride=2, padding=0, dilation=1, ceil_mode=False)\n",
      "********************************\n"
     ]
    },
    {
     "name": "stderr",
     "output_type": "stream",
     "text": [
      "C:\\Users\\pjrad\\AppData\\Roaming\\Python\\Python39\\site-packages\\torch\\optim\\lr_scheduler.py:28: UserWarning: The verbose parameter is deprecated. Please use get_last_lr() to access the learning rate.\n",
      "  warnings.warn(\"The verbose parameter is deprecated. Please use get_last_lr() \"\n"
     ]
    }
   ],
   "source": [
    "trainer_class = q4_config['trainer_module']\n",
    "trainer_vgg = trainer_class(\n",
    "    config = q4_config, \n",
    "    log_dir = ospj(PROJECT_ROOT,'Logs'),\n",
    "    train_loader=train_data_loader, \n",
    "    eval_loader=valid_data_loader,\n",
    ")"
   ]
  },
  {
   "cell_type": "code",
   "execution_count": 7,
   "metadata": {},
   "outputs": [
    {
     "name": "stderr",
     "output_type": "stream",
     "text": [
      "Train Epoch: 1 Loss: 1.9328: : 100% 45056/45056 [00:30<00:00, 1470.22it/s]\n",
      "Eval Loss: 1.8370: : 100% 5056/5056 [00:21<00:00, 231.91it/s]\n"
     ]
    },
    {
     "name": "stdout",
     "output_type": "stream",
     "text": [
      "Saved model on eval based on eval_top1 at this step. Previous: -inf, Current: 0.6248022151898734\n"
     ]
    },
    {
     "name": "stderr",
     "output_type": "stream",
     "text": [
      "Train Epoch: 2 Loss: 1.2117: : 100% 45056/45056 [00:28<00:00, 1575.32it/s]\n",
      "Eval Loss: 1.7048: : 100% 5056/5056 [00:22<00:00, 229.75it/s]\n"
     ]
    },
    {
     "name": "stdout",
     "output_type": "stream",
     "text": [
      "Saved model on eval based on eval_top1 at this step. Previous: 0.6248022151898734, Current: 0.6376582278481012\n"
     ]
    },
    {
     "name": "stderr",
     "output_type": "stream",
     "text": [
      "Train Epoch: 3 Loss: 0.9366: : 100% 45056/45056 [00:28<00:00, 1576.17it/s]\n",
      "Eval Loss: 1.5944: : 100% 5056/5056 [00:22<00:00, 229.08it/s] \n"
     ]
    },
    {
     "name": "stdout",
     "output_type": "stream",
     "text": [
      "Saved model on eval based on eval_top1 at this step. Previous: 0.6376582278481012, Current: 0.6457674050632911\n"
     ]
    },
    {
     "name": "stderr",
     "output_type": "stream",
     "text": [
      "Train Epoch: 4 Loss: 1.3624: : 100% 45056/45056 [00:28<00:00, 1558.74it/s]\n",
      "Eval Loss: 1.5066: : 100% 5056/5056 [00:22<00:00, 227.69it/s]\n",
      "Train Epoch: 5 Loss: 0.9211: : 100% 45056/45056 [00:28<00:00, 1554.13it/s]\n",
      "Eval Loss: 1.2503: : 100% 5056/5056 [00:31<00:00, 162.16it/s]\n"
     ]
    },
    {
     "name": "stdout",
     "output_type": "stream",
     "text": [
      "Saved model on eval based on eval_top1 at this step. Previous: 0.6457674050632911, Current: 0.6463607594936709\n"
     ]
    },
    {
     "name": "stderr",
     "output_type": "stream",
     "text": [
      "Train Epoch: 6 Loss: 1.7463: : 100% 45056/45056 [00:35<00:00, 1253.99it/s]\n",
      "Eval Loss: 1.3132: : 100% 5056/5056 [00:27<00:00, 184.17it/s] \n"
     ]
    },
    {
     "name": "stdout",
     "output_type": "stream",
     "text": [
      "Saved model on eval based on eval_top1 at this step. Previous: 0.6463607594936709, Current: 0.6568433544303798\n"
     ]
    },
    {
     "name": "stderr",
     "output_type": "stream",
     "text": [
      "Train Epoch: 7 Loss: 0.7761: : 100% 45056/45056 [00:35<00:00, 1285.89it/s]\n",
      "Eval Loss: 1.9272: : 100% 5056/5056 [00:22<00:00, 222.27it/s] \n",
      "Train Epoch: 8 Loss: 2.2089: : 100% 45056/45056 [00:29<00:00, 1510.43it/s]\n",
      "Eval Loss: 1.3270: : 100% 5056/5056 [00:23<00:00, 219.15it/s] \n",
      "Train Epoch: 9 Loss: 1.9967: : 100% 45056/45056 [00:29<00:00, 1502.15it/s]\n",
      "Eval Loss: 1.8005: : 100% 5056/5056 [00:23<00:00, 216.74it/s] \n",
      "Train Epoch: 10 Loss: 0.4169: : 100% 45056/45056 [00:29<00:00, 1536.26it/s]\n",
      "Eval Loss: 1.7166: : 100% 5056/5056 [00:21<00:00, 231.09it/s]\n",
      "Train Epoch: 11 Loss: 2.3413: : 100% 45056/45056 [00:28<00:00, 1570.20it/s]\n",
      "Eval Loss: 1.5826: : 100% 5056/5056 [00:22<00:00, 228.61it/s]\n"
     ]
    }
   ],
   "source": [
    "train_loss_list, eval_lost_list = trainer_vgg.train()"
   ]
  },
  {
   "cell_type": "code",
   "execution_count": 12,
   "metadata": {},
   "outputs": [
    {
     "data": {
      "image/png": "[encoded data removed]",
      "text/plain": [
       "<Figure size 432x288 with 1 Axes>"
      ]
     },
     "metadata": {
      "needs_background": "light"
     },
     "output_type": "display_data"
    }
   ],
   "source": [
    "import matplotlib.pyplot as plt\n",
    "\n",
    "plt.plot(train_loss_list, label='train') \n",
    "plt.plot(eval_lost_list, label='eval') \n",
    "plt.title('Train-Eval-Plot') \n",
    "plt.xlabel('Epoch') \n",
    "plt.ylabel('Loss') \n",
    "plt.legend() \n",
    "plt.show()"
   ]
  },
  {
   "cell_type": "code",
   "execution_count": 13,
   "metadata": {},
   "outputs": [
    {
     "name": "stderr",
     "output_type": "stream",
     "text": [
      "Eval Loss: 1.0270: : 100% 10048/10048 [00:18<00:00, 531.47it/s]"
     ]
    },
    {
     "name": "stdout",
     "output_type": "stream",
     "text": [
      "{'loss': 1.1346692203716109, 'top1': 0.6413216560509554, 'top5': 0.963077229299363}\n"
     ]
    },
    {
     "name": "stderr",
     "output_type": "stream",
     "text": [
      "\n"
     ]
    }
   ],
   "source": [
    "# Change this to the experiment you want to evaluate\n",
    "path = './Saved/CIFAR10_VGG/last_model.pth'\n",
    "\n",
    "trainer_vgg.load_model(path=path)\n",
    "\n",
    "result = trainer_vgg.evaluate(loader=test_loader)\n",
    "\n",
    "print(result)\n",
    "\n",
    "if wandb_enabled:\n",
    "    for metrics, values in result.items():\n",
    "        wandb.run.summary[f\"test_{metrics}\"] = values\n",
    "\n",
    "    # Change the title and message as you wish.\n",
    "    # Would only work if you have enabled push notifications for your email/slack in wandb account settings.\n",
    "    # Of course not an essential part of the assignment :)\n",
    "    wandb.alert(\n",
    "        title=\"Training Finished\",\n",
    "        text=f'VGG Training has finished. Test results: {result}', level=wandb.AlertLevel.INFO\n",
    "    )\n",
    "\n",
    "    run.finish()"
   ]
  },
  {
   "cell_type": "code",
   "execution_count": 5,
   "metadata": {},
   "outputs": [
    {
     "name": "stdout",
     "output_type": "stream",
     "text": [
      "CIFAR10_VGG_B1\n",
      "transforms for preset CIFAR10_VGG for split train are Compose(\n",
      "    ToTensor()\n",
      "    Normalize(mean=(0.485, 0.456, 0.406), std=(0.229, 0.224, 0.225))\n",
      ")\n",
      "Files already downloaded and verified\n",
      "Initialization DataLoader for 45000 samples with {'batch_size': 64, 'shuffle': True, 'num_workers': 6}\n",
      "Initialization heldout DataLoader 5000 samples with {'batch_size': 64, 'shuffle': False, 'num_workers': 6}\n",
      "transforms for preset CIFAR10_VGG for split eval are Compose(\n",
      "    ToTensor()\n",
      "    Normalize(mean=(0.485, 0.456, 0.406), std=(0.229, 0.224, 0.225))\n",
      ")\n",
      "Files already downloaded and verified\n",
      "Initialization DataLoader for 10000 samples with {'batch_size': 64, 'shuffle': False, 'num_workers': 6}\n"
     ]
    }
   ],
   "source": [
    "#Q4b\n",
    "#No freezing weights, but fine tuning them on cifar10 dataset\n",
    "from cfgs.exercise_3 import vgg_cifar10\n",
    "q4_config = vgg_cifar10.q4_dict\n",
    "\n",
    "print(q4_config['name'])\n",
    "\n",
    "\n",
    "datamodule_class = q4_config['datamodule']\n",
    "data_args = q4_config['data_args']\n",
    "\n",
    "dm = datamodule_class(**data_args)\n",
    "\n",
    "# Based on the heldout_split in the config file, \n",
    "# the datamodule will break the dataset into two splits\n",
    "train_data_loader = dm.get_loader()\n",
    "valid_data_loader = dm.get_heldout_loader()\n",
    "\n",
    "# Test loader is the same as train loader\n",
    "# except that training=False, shuffle=False, and no splitting is done \n",
    "# So we use the exact config from training and just modify these arguments\n",
    "test_data_args = deepcopy(data_args) # copy the args\n",
    "test_data_args['training']=False\n",
    "test_data_args['shuffle']=False\n",
    "test_data_args['heldout_split']=0.0\n",
    "\n",
    "# Now we initialize the test module with the modified config\n",
    "test_dm = datamodule_class(**test_data_args)\n",
    "test_loader = test_dm.get_loader() # and get the loader from it\n"
   ]
  },
  {
   "cell_type": "code",
   "execution_count": 6,
   "metadata": {},
   "outputs": [
    {
     "name": "stdout",
     "output_type": "stream",
     "text": [
      "Warning! Log file ./Logs\\CIFAR10_VGG_B1.log already exists! The logs will be appended!\n",
      "Warning! Save dir Saved\\CIFAR10_VGG_B1 already exists!Existing checkpoints will be overwritten!\n"
     ]
    },
    {
     "name": "stderr",
     "output_type": "stream",
     "text": [
      "C:\\Users\\pjrad\\AppData\\Roaming\\Python\\Python39\\site-packages\\torchvision\\models\\_utils.py:208: UserWarning: The parameter 'pretrained' is deprecated since 0.13 and may be removed in the future, please use 'weights' instead.\n",
      "  warnings.warn(\n",
      "C:\\Users\\pjrad\\AppData\\Roaming\\Python\\Python39\\site-packages\\torchvision\\models\\_utils.py:223: UserWarning: Arguments other than a weight enum or `None` for 'weights' are deprecated since 0.13 and may be removed in the future. The current behavior is equivalent to passing `weights=VGG11_BN_Weights.IMAGENET1K_V1`. You can also use `weights=VGG11_BN_Weights.DEFAULT` to get the most up-to-date weights.\n",
      "  warnings.warn(msg)\n"
     ]
    },
    {
     "name": "stdout",
     "output_type": "stream",
     "text": [
      "********************\n",
      "Conv2d(3, 64, kernel_size=(3, 3), stride=(1, 1), padding=(1, 1))\n",
      "BatchNorm2d(64, eps=1e-05, momentum=0.1, affine=True, track_running_stats=True)\n",
      "ReLU(inplace=True)\n",
      "MaxPool2d(kernel_size=2, stride=2, padding=0, dilation=1, ceil_mode=False)\n",
      "Conv2d(64, 128, kernel_size=(3, 3), stride=(1, 1), padding=(1, 1))\n",
      "BatchNorm2d(128, eps=1e-05, momentum=0.1, affine=True, track_running_stats=True)\n",
      "ReLU(inplace=True)\n",
      "MaxPool2d(kernel_size=2, stride=2, padding=0, dilation=1, ceil_mode=False)\n",
      "Conv2d(128, 256, kernel_size=(3, 3), stride=(1, 1), padding=(1, 1))\n",
      "BatchNorm2d(256, eps=1e-05, momentum=0.1, affine=True, track_running_stats=True)\n",
      "ReLU(inplace=True)\n",
      "Conv2d(256, 256, kernel_size=(3, 3), stride=(1, 1), padding=(1, 1))\n",
      "BatchNorm2d(256, eps=1e-05, momentum=0.1, affine=True, track_running_stats=True)\n",
      "ReLU(inplace=True)\n",
      "MaxPool2d(kernel_size=2, stride=2, padding=0, dilation=1, ceil_mode=False)\n",
      "Conv2d(256, 512, kernel_size=(3, 3), stride=(1, 1), padding=(1, 1))\n",
      "BatchNorm2d(512, eps=1e-05, momentum=0.1, affine=True, track_running_stats=True)\n",
      "ReLU(inplace=True)\n",
      "Conv2d(512, 512, kernel_size=(3, 3), stride=(1, 1), padding=(1, 1))\n",
      "BatchNorm2d(512, eps=1e-05, momentum=0.1, affine=True, track_running_stats=True)\n",
      "ReLU(inplace=True)\n",
      "MaxPool2d(kernel_size=2, stride=2, padding=0, dilation=1, ceil_mode=False)\n",
      "Conv2d(512, 512, kernel_size=(3, 3), stride=(1, 1), padding=(1, 1))\n",
      "BatchNorm2d(512, eps=1e-05, momentum=0.1, affine=True, track_running_stats=True)\n",
      "ReLU(inplace=True)\n",
      "Conv2d(512, 512, kernel_size=(3, 3), stride=(1, 1), padding=(1, 1))\n",
      "BatchNorm2d(512, eps=1e-05, momentum=0.1, affine=True, track_running_stats=True)\n",
      "ReLU(inplace=True)\n",
      "MaxPool2d(kernel_size=2, stride=2, padding=0, dilation=1, ceil_mode=False)\n",
      "********************************\n"
     ]
    },
    {
     "name": "stderr",
     "output_type": "stream",
     "text": [
      "C:\\Users\\pjrad\\AppData\\Roaming\\Python\\Python39\\site-packages\\torch\\optim\\lr_scheduler.py:28: UserWarning: The verbose parameter is deprecated. Please use get_last_lr() to access the learning rate.\n",
      "  warnings.warn(\"The verbose parameter is deprecated. Please use get_last_lr() \"\n"
     ]
    }
   ],
   "source": [
    "trainer_class = q4_config['trainer_module']\n",
    "trainer_vgg = trainer_class(\n",
    "    config = q4_config, \n",
    "    log_dir = ospj(PROJECT_ROOT,'Logs'),\n",
    "    train_loader=train_data_loader, \n",
    "    eval_loader=valid_data_loader,\n",
    ")"
   ]
  },
  {
   "cell_type": "code",
   "execution_count": 7,
   "metadata": {},
   "outputs": [
    {
     "name": "stderr",
     "output_type": "stream",
     "text": [
      "Train Epoch: 1 Loss: 0.2678: : 100% 45056/45056 [00:41<00:00, 1098.29it/s]\n",
      "Eval Loss: 1.3669: : 100% 5056/5056 [00:23<00:00, 219.56it/s] \n"
     ]
    },
    {
     "name": "stdout",
     "output_type": "stream",
     "text": [
      "Saved model on eval based on eval_top1 at this step. Previous: -inf, Current: 0.8000395569620253\n"
     ]
    },
    {
     "name": "stderr",
     "output_type": "stream",
     "text": [
      "Train Epoch: 2 Loss: 0.9440: : 100% 45056/45056 [00:37<00:00, 1195.74it/s]\n",
      "Eval Loss: 0.5332: : 100% 5056/5056 [00:21<00:00, 231.02it/s] \n",
      "Train Epoch: 3 Loss: 0.3291: : 100% 45056/45056 [00:37<00:00, 1199.29it/s]\n",
      "Eval Loss: 1.5473: : 100% 5056/5056 [00:22<00:00, 228.82it/s] \n"
     ]
    },
    {
     "name": "stdout",
     "output_type": "stream",
     "text": [
      "Saved model on eval based on eval_top1 at this step. Previous: 0.8000395569620253, Current: 0.837618670886076\n"
     ]
    },
    {
     "name": "stderr",
     "output_type": "stream",
     "text": [
      "Train Epoch: 4 Loss: 1.2935: : 100% 45056/45056 [00:37<00:00, 1198.30it/s]\n",
      "Eval Loss: 1.3599: : 100% 5056/5056 [00:22<00:00, 227.94it/s] \n",
      "Train Epoch: 5 Loss: 0.6018: : 100% 45056/45056 [00:38<00:00, 1169.92it/s]\n",
      "Eval Loss: 1.0699: : 100% 5056/5056 [00:22<00:00, 227.04it/s] \n"
     ]
    },
    {
     "name": "stdout",
     "output_type": "stream",
     "text": [
      "Saved model on eval based on eval_top1 at this step. Previous: 0.837618670886076, Current: 0.8613528481012658\n"
     ]
    },
    {
     "name": "stderr",
     "output_type": "stream",
     "text": [
      "Train Epoch: 6 Loss: 0.0076: : 100% 45056/45056 [00:37<00:00, 1196.92it/s]\n",
      "Eval Loss: 1.8560: : 100% 5056/5056 [00:22<00:00, 228.00it/s] \n",
      "Train Epoch: 7 Loss: 0.1731: : 100% 45056/45056 [00:37<00:00, 1201.97it/s]\n",
      "Eval Loss: 0.8860: : 100% 5056/5056 [00:21<00:00, 231.16it/s] \n",
      "Train Epoch: 8 Loss: 0.0080: : 100% 45056/45056 [00:37<00:00, 1206.69it/s]\n",
      "Eval Loss: 1.4194: : 100% 5056/5056 [00:22<00:00, 224.34it/s] \n",
      "Train Epoch: 9 Loss: 0.2324: : 100% 45056/45056 [00:38<00:00, 1179.38it/s]\n",
      "Eval Loss: 1.7566: : 100% 5056/5056 [00:22<00:00, 223.70it/s] \n",
      "Train Epoch: 10 Loss: 0.0171: : 100% 45056/45056 [00:38<00:00, 1170.87it/s]\n",
      "Eval Loss: 1.3152: : 100% 5056/5056 [00:22<00:00, 223.14it/s] \n"
     ]
    },
    {
     "name": "stdout",
     "output_type": "stream",
     "text": [
      "Saved model on eval based on eval_top1 at this step. Previous: 0.8613528481012658, Current: 0.8625395569620253\n"
     ]
    },
    {
     "name": "stderr",
     "output_type": "stream",
     "text": [
      "Train Epoch: 11 Loss: 1.0441: : 100% 45056/45056 [00:37<00:00, 1210.03it/s]\n",
      "Eval Loss: 1.9431: : 100% 5056/5056 [00:21<00:00, 234.08it/s] \n",
      "Train Epoch: 12 Loss: 0.3657: : 100% 45056/45056 [00:36<00:00, 1220.40it/s]\n",
      "Eval Loss: 1.0995: : 100% 5056/5056 [00:21<00:00, 231.97it/s] \n",
      "Train Epoch: 13 Loss: 0.0154: : 100% 45056/45056 [00:37<00:00, 1189.69it/s]\n",
      "Eval Loss: 1.5588: : 100% 5056/5056 [00:21<00:00, 234.37it/s] \n",
      "Train Epoch: 14 Loss: 0.0204: : 100% 45056/45056 [00:37<00:00, 1205.70it/s]\n",
      "Eval Loss: 1.4716: : 100% 5056/5056 [00:22<00:00, 226.03it/s] \n"
     ]
    },
    {
     "name": "stdout",
     "output_type": "stream",
     "text": [
      "Saved model on eval based on eval_top1 at this step. Previous: 0.8625395569620253, Current: 0.8662974683544303\n"
     ]
    },
    {
     "name": "stderr",
     "output_type": "stream",
     "text": [
      "Train Epoch: 15 Loss: 0.0043: : 100% 45056/45056 [00:37<00:00, 1190.06it/s]\n",
      "Eval Loss: 2.3642: : 100% 5056/5056 [00:22<00:00, 227.32it/s] \n"
     ]
    }
   ],
   "source": [
    "train_loss_list_b1, eval_lost_list_b1 = trainer_vgg.train()"
   ]
  },
  {
   "cell_type": "code",
   "execution_count": 10,
   "metadata": {},
   "outputs": [
    {
     "data": {
      "image/png": "[encoded data removed]",
      "text/plain": [
       "<Figure size 432x288 with 1 Axes>"
      ]
     },
     "metadata": {
      "needs_background": "light"
     },
     "output_type": "display_data"
    }
   ],
   "source": [
    "import matplotlib.pyplot as plt\n",
    "\n",
    "plt.plot(train_loss_list_b1, label='train') \n",
    "plt.plot(eval_lost_list_b1, label='eval') \n",
    "plt.title('Train-Eval-Plot') \n",
    "plt.xlabel('Epoch') \n",
    "plt.ylabel('Loss') \n",
    "plt.legend() \n",
    "plt.show()"
   ]
  },
  {
   "cell_type": "code",
   "execution_count": 11,
   "metadata": {},
   "outputs": [
    {
     "name": "stderr",
     "output_type": "stream",
     "text": [
      "Eval Loss: 0.4638: : 100% 10048/10048 [00:18<00:00, 530.74it/s]"
     ]
    },
    {
     "name": "stdout",
     "output_type": "stream",
     "text": [
      "{'loss': 0.633177164443739, 'top1': 0.8506170382165605, 'top5': 0.9899482484076433}\n"
     ]
    },
    {
     "name": "stderr",
     "output_type": "stream",
     "text": [
      "\n"
     ]
    }
   ],
   "source": [
    "# Change this to the experiment you want to evaluate\n",
    "path = './Saved/CIFAR10_VGG_B1/last_model.pth'\n",
    "\n",
    "trainer_vgg.load_model(path=path)\n",
    "\n",
    "result = trainer_vgg.evaluate(loader=test_loader)\n",
    "\n",
    "print(result)\n",
    "\n"
   ]
  },
  {
   "cell_type": "code",
   "execution_count": 4,
   "metadata": {},
   "outputs": [
    {
     "name": "stdout",
     "output_type": "stream",
     "text": [
      "transforms for preset CIFAR10_VGG for split train are Compose(\n",
      "    ToTensor()\n",
      "    Normalize(mean=(0.485, 0.456, 0.406), std=(0.229, 0.224, 0.225))\n",
      ")\n",
      "Files already downloaded and verified\n",
      "Initialization DataLoader for 45000 samples with {'batch_size': 64, 'shuffle': True, 'num_workers': 6}\n",
      "Initialization heldout DataLoader 5000 samples with {'batch_size': 64, 'shuffle': False, 'num_workers': 6}\n",
      "transforms for preset CIFAR10_VGG for split eval are Compose(\n",
      "    ToTensor()\n",
      "    Normalize(mean=(0.485, 0.456, 0.406), std=(0.229, 0.224, 0.225))\n",
      ")\n",
      "Files already downloaded and verified\n",
      "Initialization DataLoader for 10000 samples with {'batch_size': 64, 'shuffle': False, 'num_workers': 6}\n"
     ]
    }
   ],
   "source": [
    "#Q4b part2\n",
    "#Implementing the model from strach and not using the pretrained weights\n",
    "from cfgs.exercise_3 import vgg_cifar10\n",
    "q4_config = vgg_cifar10.q4_dict\n",
    "\n",
    "\n",
    "datamodule_class = q4_config['datamodule']\n",
    "data_args = q4_config['data_args']\n",
    "\n",
    "dm = datamodule_class(**data_args)\n",
    "\n",
    "# Based on the heldout_split in the config file, \n",
    "# the datamodule will break the dataset into two splits\n",
    "train_data_loader = dm.get_loader()\n",
    "valid_data_loader = dm.get_heldout_loader()\n",
    "\n",
    "# Test loader is the same as train loader\n",
    "# except that training=False, shuffle=False, and no splitting is done \n",
    "# So we use the exact config from training and just modify these arguments\n",
    "test_data_args = deepcopy(data_args) # copy the args\n",
    "test_data_args['training']=False\n",
    "test_data_args['shuffle']=False\n",
    "test_data_args['heldout_split']=0.0\n",
    "\n",
    "# Now we initialize the test module with the modified config\n",
    "test_dm = datamodule_class(**test_data_args)\n",
    "test_loader = test_dm.get_loader() # and get the loader from it"
   ]
  },
  {
   "cell_type": "code",
   "execution_count": 5,
   "metadata": {},
   "outputs": [
    {
     "name": "stdout",
     "output_type": "stream",
     "text": [
      "Warning! Log file ./Logs\\CIFAR10_VGG_B2.log already exists! The logs will be appended!\n",
      "Warning! Save dir Saved\\CIFAR10_VGG_B2 already exists!Existing checkpoints will be overwritten!\n"
     ]
    },
    {
     "name": "stderr",
     "output_type": "stream",
     "text": [
      "C:\\Users\\pjrad\\AppData\\Roaming\\Python\\Python39\\site-packages\\torchvision\\models\\_utils.py:208: UserWarning: The parameter 'pretrained' is deprecated since 0.13 and may be removed in the future, please use 'weights' instead.\n",
      "  warnings.warn(\n",
      "C:\\Users\\pjrad\\AppData\\Roaming\\Python\\Python39\\site-packages\\torchvision\\models\\_utils.py:223: UserWarning: Arguments other than a weight enum or `None` for 'weights' are deprecated since 0.13 and may be removed in the future. The current behavior is equivalent to passing `weights=None`.\n",
      "  warnings.warn(msg)\n"
     ]
    },
    {
     "name": "stdout",
     "output_type": "stream",
     "text": [
      "********************\n",
      "Conv2d(3, 64, kernel_size=(3, 3), stride=(1, 1), padding=(1, 1))\n",
      "BatchNorm2d(64, eps=1e-05, momentum=0.1, affine=True, track_running_stats=True)\n",
      "ReLU(inplace=True)\n",
      "MaxPool2d(kernel_size=2, stride=2, padding=0, dilation=1, ceil_mode=False)\n",
      "Conv2d(64, 128, kernel_size=(3, 3), stride=(1, 1), padding=(1, 1))\n",
      "BatchNorm2d(128, eps=1e-05, momentum=0.1, affine=True, track_running_stats=True)\n",
      "ReLU(inplace=True)\n",
      "MaxPool2d(kernel_size=2, stride=2, padding=0, dilation=1, ceil_mode=False)\n",
      "Conv2d(128, 256, kernel_size=(3, 3), stride=(1, 1), padding=(1, 1))\n",
      "BatchNorm2d(256, eps=1e-05, momentum=0.1, affine=True, track_running_stats=True)\n",
      "ReLU(inplace=True)\n",
      "Conv2d(256, 256, kernel_size=(3, 3), stride=(1, 1), padding=(1, 1))\n",
      "BatchNorm2d(256, eps=1e-05, momentum=0.1, affine=True, track_running_stats=True)\n",
      "ReLU(inplace=True)\n",
      "MaxPool2d(kernel_size=2, stride=2, padding=0, dilation=1, ceil_mode=False)\n",
      "Conv2d(256, 512, kernel_size=(3, 3), stride=(1, 1), padding=(1, 1))\n",
      "BatchNorm2d(512, eps=1e-05, momentum=0.1, affine=True, track_running_stats=True)\n",
      "ReLU(inplace=True)\n",
      "Conv2d(512, 512, kernel_size=(3, 3), stride=(1, 1), padding=(1, 1))\n",
      "BatchNorm2d(512, eps=1e-05, momentum=0.1, affine=True, track_running_stats=True)\n",
      "ReLU(inplace=True)\n",
      "MaxPool2d(kernel_size=2, stride=2, padding=0, dilation=1, ceil_mode=False)\n",
      "Conv2d(512, 512, kernel_size=(3, 3), stride=(1, 1), padding=(1, 1))\n",
      "BatchNorm2d(512, eps=1e-05, momentum=0.1, affine=True, track_running_stats=True)\n",
      "ReLU(inplace=True)\n",
      "Conv2d(512, 512, kernel_size=(3, 3), stride=(1, 1), padding=(1, 1))\n",
      "BatchNorm2d(512, eps=1e-05, momentum=0.1, affine=True, track_running_stats=True)\n",
      "ReLU(inplace=True)\n",
      "MaxPool2d(kernel_size=2, stride=2, padding=0, dilation=1, ceil_mode=False)\n",
      "********************************\n"
     ]
    },
    {
     "name": "stderr",
     "output_type": "stream",
     "text": [
      "C:\\Users\\pjrad\\AppData\\Roaming\\Python\\Python39\\site-packages\\torch\\optim\\lr_scheduler.py:28: UserWarning: The verbose parameter is deprecated. Please use get_last_lr() to access the learning rate.\n",
      "  warnings.warn(\"The verbose parameter is deprecated. Please use get_last_lr() \"\n"
     ]
    }
   ],
   "source": [
    "trainer_class = q4_config['trainer_module']\n",
    "trainer_vgg = trainer_class(\n",
    "    config = q4_config, \n",
    "    log_dir = ospj(PROJECT_ROOT,'Logs'),\n",
    "    train_loader=train_data_loader, \n",
    "    eval_loader=valid_data_loader,\n",
    ")"
   ]
  },
  {
   "cell_type": "code",
   "execution_count": 6,
   "metadata": {},
   "outputs": [
    {
     "name": "stderr",
     "output_type": "stream",
     "text": [
      "Train Epoch: 1 Loss: 1.0587: : 100% 45056/45056 [02:27<00:00, 305.51it/s]\n",
      "Eval Loss: 1.4309: : 100% 5056/5056 [00:26<00:00, 188.55it/s] \n"
     ]
    },
    {
     "name": "stdout",
     "output_type": "stream",
     "text": [
      "Saved model on eval based on eval_top1 at this step. Previous: -inf, Current: 0.6716772151898734\n"
     ]
    },
    {
     "name": "stderr",
     "output_type": "stream",
     "text": [
      "Train Epoch: 2 Loss: 2.6750: : 100% 45056/45056 [01:58<00:00, 379.64it/s]\n",
      "Eval Loss: 1.2025: : 100% 5056/5056 [00:31<00:00, 159.10it/s] \n"
     ]
    },
    {
     "name": "stdout",
     "output_type": "stream",
     "text": [
      "Saved model on eval based on eval_top1 at this step. Previous: 0.6716772151898734, Current: 0.7280458860759493\n"
     ]
    },
    {
     "name": "stderr",
     "output_type": "stream",
     "text": [
      "Train Epoch: 3 Loss: 0.6891: : 100% 45056/45056 [01:56<00:00, 386.27it/s]\n",
      "Eval Loss: 1.3358: : 100% 5056/5056 [00:31<00:00, 161.10it/s] \n"
     ]
    },
    {
     "name": "stdout",
     "output_type": "stream",
     "text": [
      "Saved model on eval based on eval_top1 at this step. Previous: 0.7280458860759493, Current: 0.7616693037974683\n"
     ]
    },
    {
     "name": "stderr",
     "output_type": "stream",
     "text": [
      "Train Epoch: 4 Loss: 0.7222: : 100% 45056/45056 [01:54<00:00, 394.83it/s]\n",
      "Eval Loss: 1.4116: : 100% 5056/5056 [00:30<00:00, 165.25it/s] \n"
     ]
    },
    {
     "name": "stdout",
     "output_type": "stream",
     "text": [
      "Saved model on eval based on eval_top1 at this step. Previous: 0.7616693037974683, Current: 0.7948971518987342\n"
     ]
    },
    {
     "name": "stderr",
     "output_type": "stream",
     "text": [
      "Train Epoch: 5 Loss: 0.3051: : 100% 45056/45056 [01:55<00:00, 388.51it/s]\n",
      "Eval Loss: 1.2369: : 100% 5056/5056 [00:28<00:00, 174.68it/s] \n",
      "Train Epoch: 6 Loss: 0.0106: : 100% 45056/45056 [01:54<00:00, 392.08it/s]\n",
      "Eval Loss: 1.4062: : 100% 5056/5056 [00:29<00:00, 171.27it/s] \n"
     ]
    },
    {
     "name": "stdout",
     "output_type": "stream",
     "text": [
      "Saved model on eval based on eval_top1 at this step. Previous: 0.7948971518987342, Current: 0.8010284810126582\n"
     ]
    },
    {
     "name": "stderr",
     "output_type": "stream",
     "text": [
      "Train Epoch: 7 Loss: 0.8047: : 100% 45056/45056 [01:55<00:00, 388.96it/s]\n",
      "Eval Loss: 1.7739: : 100% 5056/5056 [00:29<00:00, 171.86it/s] \n"
     ]
    },
    {
     "name": "stdout",
     "output_type": "stream",
     "text": [
      "Saved model on eval based on eval_top1 at this step. Previous: 0.8010284810126582, Current: 0.8059731012658228\n"
     ]
    },
    {
     "name": "stderr",
     "output_type": "stream",
     "text": [
      "Train Epoch: 8 Loss: 0.1021: : 100% 45056/45056 [01:56<00:00, 386.73it/s]\n",
      "Eval Loss: 1.7565: : 100% 5056/5056 [00:28<00:00, 178.21it/s] \n"
     ]
    },
    {
     "name": "stdout",
     "output_type": "stream",
     "text": [
      "Saved model on eval based on eval_top1 at this step. Previous: 0.8059731012658228, Current: 0.8105221518987342\n"
     ]
    },
    {
     "name": "stderr",
     "output_type": "stream",
     "text": [
      "Train Epoch: 9 Loss: 0.2474: : 100% 45056/45056 [01:59<00:00, 377.62it/s]\n",
      "Eval Loss: 1.9871: : 100% 5056/5056 [00:28<00:00, 174.89it/s] \n",
      "Train Epoch: 10 Loss: 1.5533: : 100% 45056/45056 [02:10<00:00, 346.15it/s]\n",
      "Eval Loss: 2.0492: : 100% 5056/5056 [00:29<00:00, 170.56it/s] \n"
     ]
    },
    {
     "name": "stdout",
     "output_type": "stream",
     "text": [
      "Saved model on eval based on eval_top1 at this step. Previous: 0.8105221518987342, Current: 0.8247626582278481\n"
     ]
    },
    {
     "name": "stderr",
     "output_type": "stream",
     "text": [
      "Train Epoch: 11 Loss: 0.0407: : 100% 45056/45056 [01:56<00:00, 385.29it/s]\n",
      "Eval Loss: 1.9601: : 100% 5056/5056 [00:29<00:00, 170.30it/s] \n",
      "Train Epoch: 12 Loss: 0.2424: : 100% 45056/45056 [01:57<00:00, 384.17it/s]\n",
      "Eval Loss: 0.7920: : 100% 5056/5056 [00:29<00:00, 173.38it/s] \n",
      "Train Epoch: 13 Loss: 0.0375: : 100% 45056/45056 [02:48<00:00, 267.23it/s]\n",
      "Eval Loss: 1.5303: : 100% 5056/5056 [00:34<00:00, 148.41it/s] \n",
      "Train Epoch: 14 Loss: 1.0928: : 100% 45056/45056 [02:31<00:00, 298.27it/s]\n",
      "Eval Loss: 1.7958: : 100% 5056/5056 [00:35<00:00, 142.06it/s] \n",
      "Train Epoch: 15 Loss: 0.0772: : 100% 45056/45056 [00:44<00:00, 1006.53it/s]\n",
      "Eval Loss: 1.8496: : 100% 5056/5056 [00:23<00:00, 219.20it/s] \n"
     ]
    }
   ],
   "source": [
    "train_loss_list_b2, eval_lost_list_b2 = trainer_vgg.train()"
   ]
  },
  {
   "cell_type": "code",
   "execution_count": 9,
   "metadata": {},
   "outputs": [
    {
     "data": {
      "image/png": "[encoded data removed]",
      "text/plain": [
       "<Figure size 432x288 with 1 Axes>"
      ]
     },
     "metadata": {
      "needs_background": "light"
     },
     "output_type": "display_data"
    }
   ],
   "source": [
    "import matplotlib.pyplot as plt\n",
    "\n",
    "plt.plot(train_loss_list_b2, label='train') \n",
    "plt.plot(eval_lost_list_b2, label='eval') \n",
    "plt.title('Train-Eval-Plot') \n",
    "plt.xlabel('Epoch') \n",
    "plt.ylabel('Loss') \n",
    "plt.legend() \n",
    "plt.show()"
   ]
  },
  {
   "cell_type": "code",
   "execution_count": 10,
   "metadata": {},
   "outputs": [
    {
     "name": "stderr",
     "output_type": "stream",
     "text": [
      "Eval Loss: 1.8252: : 100% 10048/10048 [00:19<00:00, 504.55it/s]"
     ]
    },
    {
     "name": "stdout",
     "output_type": "stream",
     "text": [
      "{'loss': 0.8993227159141735, 'top1': 0.8046377388535032, 'top5': 0.9856687898089171}\n"
     ]
    },
    {
     "name": "stderr",
     "output_type": "stream",
     "text": [
      "\n"
     ]
    }
   ],
   "source": [
    "# Change this to the experiment you want to evaluate\n",
    "path = './Saved/CIFAR10_VGG_B2/last_model.pth'\n",
    "\n",
    "trainer_vgg.load_model(path=path)\n",
    "\n",
    "result = trainer_vgg.evaluate(loader=test_loader)\n",
    "\n",
    "print(result)\n",
    "\n",
    "\n",
    "\n"
   ]
  },
  {
   "attachments": {},
   "cell_type": "markdown",
   "metadata": {
    "id": "-Uvjz11dc4uN"
   },
   "source": [
    "#### Write your report for Q4 in this cell.  \n",
    "Comparing results on the test set, the fine-tuned pre-trained model achieved the best performance, while the frozen pre-trained model performed the worst. The fine-tuned model's loss started lower than the other two models (due to the pre-trained weights, compared to the model trained from strach) and its training loss decreased faster, dropping below 0.1 by the 8th epoch.  \n",
    "The model trained from scratch had its loss drop below 0.2 by the 8th epoch, while the frozen pre-trained model's loss remained above 0.7. In terms of evaluation loss, the fine-tuned model again had the lowest loss, while the frozen pre-trained model had a lower evaluation loss than the model trained from scratch.\n",
    "All in all, the fine-tuned pretrained model has the best performance among the three models.\n",
    "\n",
    "\n",
    "\n",
    "\n",
    "\n",
    "  \n",
    "\n"
   ]
  }
 ],
 "metadata": {
  "kernelspec": {
   "display_name": "mlenv",
   "language": "python",
   "name": "python3"
  },
  "language_info": {
   "codemirror_mode": {
    "name": "ipython",
    "version": 3
   },
   "file_extension": ".py",
   "mimetype": "text/x-python",
   "name": "python",
   "nbconvert_exporter": "python",
   "pygments_lexer": "ipython3",
   "version": "3.9.0"
  }
 },
 "nbformat": 4,
 "nbformat_minor": 0
}
